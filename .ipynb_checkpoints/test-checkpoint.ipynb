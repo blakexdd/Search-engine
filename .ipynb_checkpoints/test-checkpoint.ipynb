{
 "cells": [
  {
   "cell_type": "code",
   "execution_count": 7,
   "metadata": {
    "pycharm": {
     "is_executing": false
    }
   },
   "outputs": [
    {
     "ename": "ModuleNotFoundError",
     "evalue": "No module named 'wikipedia'",
     "output_type": "error",
     "traceback": [
      "\u001b[1;31m---------------------------------------------------------------------------\u001b[0m",
      "\u001b[1;31mModuleNotFoundError\u001b[0m                       Traceback (most recent call last)",
      "\u001b[1;32m<ipython-input-7-66e2e30c9659>\u001b[0m in \u001b[0;36m<module>\u001b[1;34m\u001b[0m\n\u001b[1;32m----> 1\u001b[1;33m \u001b[1;32mimport\u001b[0m \u001b[0mwikipedia\u001b[0m\u001b[1;33m\u001b[0m\u001b[1;33m\u001b[0m\u001b[0m\n\u001b[0m\u001b[0;32m      2\u001b[0m \u001b[1;32mfrom\u001b[0m \u001b[0msklearn\u001b[0m\u001b[1;33m.\u001b[0m\u001b[0mfeature_extraction\u001b[0m\u001b[1;33m.\u001b[0m\u001b[0mtext\u001b[0m \u001b[1;32mimport\u001b[0m \u001b[0mCountVectorizer\u001b[0m\u001b[1;33m\u001b[0m\u001b[1;33m\u001b[0m\u001b[0m\n\u001b[0;32m      3\u001b[0m \u001b[1;32mfrom\u001b[0m \u001b[0msklearn\u001b[0m\u001b[1;33m.\u001b[0m\u001b[0mfeature_extraction\u001b[0m\u001b[1;33m.\u001b[0m\u001b[0mtext\u001b[0m \u001b[1;32mimport\u001b[0m \u001b[0mTfidfTransformer\u001b[0m\u001b[1;33m\u001b[0m\u001b[1;33m\u001b[0m\u001b[0m\n\u001b[0;32m      4\u001b[0m \u001b[1;32mfrom\u001b[0m \u001b[0msklearn\u001b[0m\u001b[1;33m.\u001b[0m\u001b[0mmodel_selection\u001b[0m \u001b[1;32mimport\u001b[0m \u001b[0mGridSearchCV\u001b[0m\u001b[1;33m\u001b[0m\u001b[1;33m\u001b[0m\u001b[0m\n\u001b[0;32m      5\u001b[0m \u001b[1;32mfrom\u001b[0m \u001b[0msklearn\u001b[0m\u001b[1;33m.\u001b[0m\u001b[0mpipeline\u001b[0m \u001b[1;32mimport\u001b[0m \u001b[0mPipeline\u001b[0m\u001b[1;33m\u001b[0m\u001b[1;33m\u001b[0m\u001b[0m\n",
      "\u001b[1;31mModuleNotFoundError\u001b[0m: No module named 'wikipedia'"
     ]
    }
   ],
   "source": [
    "import wikipedia\n",
    "from sklearn.feature_extraction.text import CountVectorizer\n",
    "from sklearn.feature_extraction.text import TfidfTransformer\n",
    "from sklearn.model_selection import GridSearchCV\n",
    "from sklearn.pipeline import Pipeline\n",
    "import re\n",
    "from sklearn.svm import SVC\n",
    "from sklearn.metrics import accuracy_score\n",
    "import numpy as np\n",
    "from sklearn.model_selection import train_test_split\n",
    "from sklearn.metrics import accuracy_score\n",
    "\n",
    "\n",
    "org_names = ['yandex', 'apple', 'samsung', 'mercedes', 'vk', 'ibm', 'McDonald’s', 'Coca-Cola',\n",
    "             'Oracle', 'Walt Disney', 'General Electric']\n",
    "\n",
    "y_dict = {}\n",
    "\n",
    "for (i, org) in enumerate(org_names):\n",
    "    y_dict[org] = i\n",
    "\n",
    "print(y_dict)\n",
    "\n",
    "pages_list = []\n",
    "\n",
    "X_test = ['Комания по продаже автомобилей', 'поисковой сервис', 'яндекс', 'фастфуд', 'вредная еда',\n",
    "          'мультфильмы для детей', 'социальная сеть']\n",
    "y_test = ['mercedes', 'yandex', 'yandex', 'McDonald’s', 'McDonald’s',\n",
    "          'Walt Disney', 'vk']\n",
    "\n",
    "# initializing features and samples lists\n",
    "X = []\n",
    "y = []\n",
    "\n",
    "def collect_data(org_names):\n",
    "    # setting language of wiki pages to Russian\n",
    "    wikipedia.set_lang('Ru')\n",
    "\n",
    "\n",
    "    # getting pages describing our organizations\n",
    "    for org in org_names:\n",
    "        org_pages = wikipedia.search(org, results=17)\n",
    "        for page in org_pages:\n",
    "            pages_list.append((page, org))\n",
    "\n",
    "    # collection features and samples\n",
    "    for org_page, org_name in pages_list:\n",
    "        # print('Org_page: ', org_page)\n",
    "        # print('Summary: ', (wikipedia.page(org_name)).summary)\n",
    "        # print('=======')\n",
    "        X.append((wikipedia.page(org_page)).summary)\n",
    "        y.append(y_dict[str(org_name)])\n",
    "\n",
    "    return X, y\n",
    "\n",
    "def text_processing(X):\n",
    "    new_X = []\n",
    "\n",
    "    for i in X:\n",
    "        doc = re.sub(r'\\d', ' ', str(i))\n",
    "\n",
    "        doc = re.sub(r'\\s+[a-zA-Z]\\s+', ' ', doc)\n",
    "\n",
    "        doc = re.sub(r'\\^[a-zA-Z]\\s+', ' ', doc)\n",
    "\n",
    "        doc = re.sub(r'\\s+', ' ', doc, flags=re.I)\n",
    "\n",
    "        doc = re.sub('\\n', ' ', doc)\n",
    "\n",
    "        doc = doc.lower()\n",
    "\n",
    "        new_X.append(doc)\n",
    "\n",
    "    return new_X\n",
    "\n",
    "data = collect_data(org_names)\n",
    "preprocessed_data = text_processing(data[0])\n",
    "\n",
    "X_train, X_test, y_train, y_test = train_test_split(preprocessed_data, data[1])\n",
    "vectorizer = CountVectorizer()\n",
    "X_train_transformed = vectorizer.fit_transform(X_train)\n",
    "X_test_transformed = vectorizer.transform(X_test)\n",
    "\n",
    "model = SVC()\n",
    "model.fit(X_train_transformed, y_train)\n",
    "\n",
    "pipe = Pipeline([('vect', CountVectorizer()),\n",
    "                ('tfidf', TfidfTransformer()),\n",
    "                ('clf', SVC())])\n",
    "\n",
    "parameters = {'vect__ngram_range': [(1, 1), (1, 2)],\n",
    "             'tfidf__use_idf': (True, False),\n",
    "             'clf__C': [0.001, 0.01, 0.1, 1, 10, 100, 1000]}\n",
    "\n",
    "grid_s = GridSearchCV(pipe, parameters, n_jobs=-1, verbose=1)\n",
    "\n",
    "grid_s_fit = grid_s.fit(X_train, y_train)\n",
    "\n",
    "y_dict_trans = {}\n",
    "\n",
    "for (org, i) in enumerate(org_names):\n",
    "    y_dict_trans[org] = i\n",
    "\n",
    "predicted = grid_s_fit.predict(X_test)\n",
    "\n",
    "accuracy_score(y_test, predicted)"
   ]
  },
  {
   "cell_type": "code",
   "execution_count": null,
   "metadata": {},
   "outputs": [],
   "source": []
  },
  {
   "cell_type": "code",
   "execution_count": null,
   "metadata": {},
   "outputs": [],
   "source": []
  }
 ],
 "metadata": {
  "kernelspec": {
   "display_name": "Python 3",
   "language": "python",
   "name": "python3"
  },
  "language_info": {
   "codemirror_mode": {
    "name": "ipython",
    "version": 3
   },
   "file_extension": ".py",
   "mimetype": "text/x-python",
   "name": "python",
   "nbconvert_exporter": "python",
   "pygments_lexer": "ipython3",
   "version": "3.7.3"
  },
  "pycharm": {
   "stem_cell": {
    "cell_type": "raw",
    "metadata": {
     "collapsed": false
    },
    "source": []
   }
  }
 },
 "nbformat": 4,
 "nbformat_minor": 1
}
